{
  "nbformat": 4,
  "nbformat_minor": 0,
  "metadata": {
    "colab": {
      "provenance": [],
      "authorship_tag": "ABX9TyNHy5sX29jgxrgGdQ1ypgVH",
      "include_colab_link": true
    },
    "kernelspec": {
      "name": "python3",
      "display_name": "Python 3"
    },
    "language_info": {
      "name": "python"
    }
  },
  "cells": [
    {
      "cell_type": "markdown",
      "metadata": {
        "id": "view-in-github",
        "colab_type": "text"
      },
      "source": [
        "<a href=\"https://colab.research.google.com/github/Pravallikabesi/11239M001_DAA_LAB/blob/main/11239M001_EXP2B_ITERATION.ipynb\" target=\"_parent\"><img src=\"https://colab.research.google.com/assets/colab-badge.svg\" alt=\"Open In Colab\"/></a>"
      ]
    },
    {
      "cell_type": "code",
      "execution_count": 1,
      "metadata": {
        "colab": {
          "base_uri": "https://localhost:8080/"
        },
        "id": "q2lR7Dy12ka8",
        "outputId": "55aaaa97-256c-4b50-a1c5-405da07f25f1"
      },
      "outputs": [
        {
          "output_type": "stream",
          "name": "stdout",
          "text": [
            "enter the value of n:3\n",
            "The 3th Fibonacci term is: 2\n"
          ]
        }
      ],
      "source": [
        "def fibonacci(n):\n",
        "    if n <= 1:\n",
        "        return n\n",
        "    a, b = 0, 1\n",
        "    for i in range(2, n + 1):\n",
        "        a, b = b, a + b\n",
        "    return b\n",
        "n =int(input(\"enter the value of n:\"))\n",
        "result = fibonacci(n)\n",
        "print(f\"The {n}th Fibonacci term is: {result}\")"
      ]
    }
  ]
}